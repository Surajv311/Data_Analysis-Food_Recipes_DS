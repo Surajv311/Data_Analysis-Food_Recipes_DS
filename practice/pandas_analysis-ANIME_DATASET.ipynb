{
 "cells": [
  {
   "cell_type": "code",
   "execution_count": 2,
   "metadata": {},
   "outputs": [],
   "source": [
    "import numpy as np\n",
    "import pandas as pd"
   ]
  },
  {
   "cell_type": "code",
   "execution_count": 3,
   "metadata": {},
   "outputs": [],
   "source": [
    "data = pd.read_csv('animes.csv')"
   ]
  },
  {
   "cell_type": "code",
   "execution_count": 4,
   "metadata": {},
   "outputs": [
    {
     "data": {
      "text/html": [
       "<div>\n",
       "<style scoped>\n",
       "    .dataframe tbody tr th:only-of-type {\n",
       "        vertical-align: middle;\n",
       "    }\n",
       "\n",
       "    .dataframe tbody tr th {\n",
       "        vertical-align: top;\n",
       "    }\n",
       "\n",
       "    .dataframe thead th {\n",
       "        text-align: right;\n",
       "    }\n",
       "</style>\n",
       "<table border=\"1\" class=\"dataframe\">\n",
       "  <thead>\n",
       "    <tr style=\"text-align: right;\">\n",
       "      <th></th>\n",
       "      <th>Unnamed: 0</th>\n",
       "      <th>Title</th>\n",
       "      <th>Pre-Production</th>\n",
       "      <th>Link</th>\n",
       "      <th>start_year</th>\n",
       "      <th>end_year</th>\n",
       "      <th>certificate</th>\n",
       "      <th>runtime</th>\n",
       "      <th>genre</th>\n",
       "      <th>ratings</th>\n",
       "      <th>review</th>\n",
       "      <th>stars</th>\n",
       "      <th>votes</th>\n",
       "    </tr>\n",
       "  </thead>\n",
       "  <tbody>\n",
       "    <tr>\n",
       "      <th>0</th>\n",
       "      <td>0</td>\n",
       "      <td>Invincible</td>\n",
       "      <td>No</td>\n",
       "      <td>/title/tt6741278/</td>\n",
       "      <td>2021.0</td>\n",
       "      <td>No Finale yet</td>\n",
       "      <td>18</td>\n",
       "      <td>364 min</td>\n",
       "      <td>Action, Adventure</td>\n",
       "      <td>8.8</td>\n",
       "      <td>An adult animated series based on the Skybound...</td>\n",
       "      <td>Steven Yeun,J.K. Simmons,Sandra Oh,Zazie Beetz</td>\n",
       "      <td>46,788</td>\n",
       "    </tr>\n",
       "    <tr>\n",
       "      <th>1</th>\n",
       "      <td>1</td>\n",
       "      <td>Castlevania</td>\n",
       "      <td>No</td>\n",
       "      <td>/title/tt6517102/</td>\n",
       "      <td>2017.0</td>\n",
       "      <td>2021</td>\n",
       "      <td>18</td>\n",
       "      <td>23 min</td>\n",
       "      <td>Action, Adventure</td>\n",
       "      <td>8.2</td>\n",
       "      <td>A vampire hunter fights to save a besieged cit...</td>\n",
       "      <td>Richard Armitage,Alejandra Reynoso,James Calli...</td>\n",
       "      <td>44,280</td>\n",
       "    </tr>\n",
       "    <tr>\n",
       "      <th>2</th>\n",
       "      <td>2</td>\n",
       "      <td>Shingeki no kyojin</td>\n",
       "      <td>No</td>\n",
       "      <td>/title/tt2560140/</td>\n",
       "      <td>2013.0</td>\n",
       "      <td>2021</td>\n",
       "      <td>13</td>\n",
       "      <td>24 min</td>\n",
       "      <td>Action, Adventure</td>\n",
       "      <td>9.0</td>\n",
       "      <td>After his hometown is destroyed and his mother...</td>\n",
       "      <td>Yûki Kaji,Marina Inoue,Josh Grelle,Yui Ishikawa</td>\n",
       "      <td>228,458</td>\n",
       "    </tr>\n",
       "    <tr>\n",
       "      <th>3</th>\n",
       "      <td>3</td>\n",
       "      <td>Kimetsu no Yaiba: Mugen Ressha-Hen</td>\n",
       "      <td>No</td>\n",
       "      <td>/title/tt11032374/</td>\n",
       "      <td>2020.0</td>\n",
       "      <td>No Finale yet</td>\n",
       "      <td>R</td>\n",
       "      <td>117 min</td>\n",
       "      <td>Action, Adventure</td>\n",
       "      <td>8.5</td>\n",
       "      <td>After his family was brutally murdered and his...</td>\n",
       "      <td>Haruo Sotozaki,Natsuki Hanae,Akari Kitô,Yoshit...</td>\n",
       "      <td>17,842</td>\n",
       "    </tr>\n",
       "    <tr>\n",
       "      <th>4</th>\n",
       "      <td>4</td>\n",
       "      <td>Demon Slayer: Kimetsu No Yaiba</td>\n",
       "      <td>No</td>\n",
       "      <td>/title/tt9335498/</td>\n",
       "      <td>2019.0</td>\n",
       "      <td>No Finale yet</td>\n",
       "      <td>16</td>\n",
       "      <td>25 min</td>\n",
       "      <td>Action, Fantasy</td>\n",
       "      <td>8.7</td>\n",
       "      <td>A family is attacked by demons and only two me...</td>\n",
       "      <td>Natsuki Hanae,Zach Aguilar,Abby Trott,Aleks Le</td>\n",
       "      <td>38,125</td>\n",
       "    </tr>\n",
       "  </tbody>\n",
       "</table>\n",
       "</div>"
      ],
      "text/plain": [
       "   Unnamed: 0                               Title Pre-Production  \\\n",
       "0           0                          Invincible             No   \n",
       "1           1                         Castlevania             No   \n",
       "2           2                  Shingeki no kyojin             No   \n",
       "3           3  Kimetsu no Yaiba: Mugen Ressha-Hen             No   \n",
       "4           4      Demon Slayer: Kimetsu No Yaiba             No   \n",
       "\n",
       "                 Link  start_year       end_year certificate  runtime  \\\n",
       "0   /title/tt6741278/      2021.0  No Finale yet          18  364 min   \n",
       "1   /title/tt6517102/      2017.0           2021          18   23 min   \n",
       "2   /title/tt2560140/      2013.0           2021          13   24 min   \n",
       "3  /title/tt11032374/      2020.0  No Finale yet           R  117 min   \n",
       "4   /title/tt9335498/      2019.0  No Finale yet          16   25 min   \n",
       "\n",
       "                            genre  ratings  \\\n",
       "0   Action, Adventure                  8.8   \n",
       "1   Action, Adventure                  8.2   \n",
       "2   Action, Adventure                  9.0   \n",
       "3   Action, Adventure                  8.5   \n",
       "4     Action, Fantasy                  8.7   \n",
       "\n",
       "                                              review  \\\n",
       "0  An adult animated series based on the Skybound...   \n",
       "1  A vampire hunter fights to save a besieged cit...   \n",
       "2  After his hometown is destroyed and his mother...   \n",
       "3  After his family was brutally murdered and his...   \n",
       "4  A family is attacked by demons and only two me...   \n",
       "\n",
       "                                               stars    votes  \n",
       "0     Steven Yeun,J.K. Simmons,Sandra Oh,Zazie Beetz   46,788  \n",
       "1  Richard Armitage,Alejandra Reynoso,James Calli...   44,280  \n",
       "2    Yûki Kaji,Marina Inoue,Josh Grelle,Yui Ishikawa  228,458  \n",
       "3  Haruo Sotozaki,Natsuki Hanae,Akari Kitô,Yoshit...   17,842  \n",
       "4     Natsuki Hanae,Zach Aguilar,Abby Trott,Aleks Le   38,125  "
      ]
     },
     "execution_count": 4,
     "metadata": {},
     "output_type": "execute_result"
    }
   ],
   "source": [
    "data.head(5)"
   ]
  },
  {
   "cell_type": "code",
   "execution_count": 5,
   "metadata": {},
   "outputs": [
    {
     "data": {
      "text/plain": [
       "0                              Invincible\n",
       "1                             Castlevania\n",
       "2                      Shingeki no kyojin\n",
       "3      Kimetsu no Yaiba: Mugen Ressha-Hen\n",
       "4          Demon Slayer: Kimetsu No Yaiba\n",
       "                      ...                \n",
       "245                            Herushingu\n",
       "246                         Fruits Basket\n",
       "247                               Sekirei\n",
       "248        Chuunibyou demo koi ga shitai!\n",
       "249          Heisei tanuki gassen ponpoko\n",
       "Name: Title, Length: 250, dtype: object"
      ]
     },
     "execution_count": 5,
     "metadata": {},
     "output_type": "execute_result"
    }
   ],
   "source": [
    "data['Title']"
   ]
  },
  {
   "cell_type": "code",
   "execution_count": 12,
   "metadata": {},
   "outputs": [],
   "source": [
    "data.drop('Unnamed: 0', axis=1, inplace = True)"
   ]
  },
  {
   "cell_type": "code",
   "execution_count": 14,
   "metadata": {},
   "outputs": [],
   "source": [
    "data.drop('Link', axis=1, inplace= True)"
   ]
  },
  {
   "cell_type": "code",
   "execution_count": 19,
   "metadata": {},
   "outputs": [
    {
     "data": {
      "text/html": [
       "<div>\n",
       "<style scoped>\n",
       "    .dataframe tbody tr th:only-of-type {\n",
       "        vertical-align: middle;\n",
       "    }\n",
       "\n",
       "    .dataframe tbody tr th {\n",
       "        vertical-align: top;\n",
       "    }\n",
       "\n",
       "    .dataframe thead th {\n",
       "        text-align: right;\n",
       "    }\n",
       "</style>\n",
       "<table border=\"1\" class=\"dataframe\">\n",
       "  <thead>\n",
       "    <tr style=\"text-align: right;\">\n",
       "      <th></th>\n",
       "      <th>Title</th>\n",
       "      <th>Pre-Production</th>\n",
       "      <th>start_year</th>\n",
       "      <th>end_year</th>\n",
       "      <th>certificate</th>\n",
       "      <th>runtime</th>\n",
       "      <th>genre</th>\n",
       "      <th>ratings</th>\n",
       "      <th>review</th>\n",
       "      <th>stars</th>\n",
       "      <th>votes</th>\n",
       "    </tr>\n",
       "  </thead>\n",
       "  <tbody>\n",
       "    <tr>\n",
       "      <th>0</th>\n",
       "      <td>Invincible</td>\n",
       "      <td>No</td>\n",
       "      <td>2021.0</td>\n",
       "      <td>No Finale yet</td>\n",
       "      <td>18</td>\n",
       "      <td>364 min</td>\n",
       "      <td>Action, Adventure</td>\n",
       "      <td>8.8</td>\n",
       "      <td>An adult animated series based on the Skybound...</td>\n",
       "      <td>Steven Yeun,J.K. Simmons,Sandra Oh,Zazie Beetz</td>\n",
       "      <td>46,788</td>\n",
       "    </tr>\n",
       "    <tr>\n",
       "      <th>1</th>\n",
       "      <td>Castlevania</td>\n",
       "      <td>No</td>\n",
       "      <td>2017.0</td>\n",
       "      <td>2021</td>\n",
       "      <td>18</td>\n",
       "      <td>23 min</td>\n",
       "      <td>Action, Adventure</td>\n",
       "      <td>8.2</td>\n",
       "      <td>A vampire hunter fights to save a besieged cit...</td>\n",
       "      <td>Richard Armitage,Alejandra Reynoso,James Calli...</td>\n",
       "      <td>44,280</td>\n",
       "    </tr>\n",
       "    <tr>\n",
       "      <th>2</th>\n",
       "      <td>Shingeki no kyojin</td>\n",
       "      <td>No</td>\n",
       "      <td>2013.0</td>\n",
       "      <td>2021</td>\n",
       "      <td>13</td>\n",
       "      <td>24 min</td>\n",
       "      <td>Action, Adventure</td>\n",
       "      <td>9.0</td>\n",
       "      <td>After his hometown is destroyed and his mother...</td>\n",
       "      <td>Yûki Kaji,Marina Inoue,Josh Grelle,Yui Ishikawa</td>\n",
       "      <td>228,458</td>\n",
       "    </tr>\n",
       "    <tr>\n",
       "      <th>3</th>\n",
       "      <td>Kimetsu no Yaiba: Mugen Ressha-Hen</td>\n",
       "      <td>No</td>\n",
       "      <td>2020.0</td>\n",
       "      <td>No Finale yet</td>\n",
       "      <td>R</td>\n",
       "      <td>117 min</td>\n",
       "      <td>Action, Adventure</td>\n",
       "      <td>8.5</td>\n",
       "      <td>After his family was brutally murdered and his...</td>\n",
       "      <td>Haruo Sotozaki,Natsuki Hanae,Akari Kitô,Yoshit...</td>\n",
       "      <td>17,842</td>\n",
       "    </tr>\n",
       "    <tr>\n",
       "      <th>4</th>\n",
       "      <td>Demon Slayer: Kimetsu No Yaiba</td>\n",
       "      <td>No</td>\n",
       "      <td>2019.0</td>\n",
       "      <td>No Finale yet</td>\n",
       "      <td>16</td>\n",
       "      <td>25 min</td>\n",
       "      <td>Action, Fantasy</td>\n",
       "      <td>8.7</td>\n",
       "      <td>A family is attacked by demons and only two me...</td>\n",
       "      <td>Natsuki Hanae,Zach Aguilar,Abby Trott,Aleks Le</td>\n",
       "      <td>38,125</td>\n",
       "    </tr>\n",
       "    <tr>\n",
       "      <th>...</th>\n",
       "      <td>...</td>\n",
       "      <td>...</td>\n",
       "      <td>...</td>\n",
       "      <td>...</td>\n",
       "      <td>...</td>\n",
       "      <td>...</td>\n",
       "      <td>...</td>\n",
       "      <td>...</td>\n",
       "      <td>...</td>\n",
       "      <td>...</td>\n",
       "      <td>...</td>\n",
       "    </tr>\n",
       "    <tr>\n",
       "      <th>245</th>\n",
       "      <td>Herushingu</td>\n",
       "      <td>Yes</td>\n",
       "      <td>2001.0</td>\n",
       "      <td>2002</td>\n",
       "      <td>NaN</td>\n",
       "      <td>NaN</td>\n",
       "      <td>NaN</td>\n",
       "      <td>NaN</td>\n",
       "      <td>NaN</td>\n",
       "      <td>NaN</td>\n",
       "      <td>NaN</td>\n",
       "    </tr>\n",
       "    <tr>\n",
       "      <th>246</th>\n",
       "      <td>Fruits Basket</td>\n",
       "      <td>Yes</td>\n",
       "      <td>2001.0</td>\n",
       "      <td>No Finale yet</td>\n",
       "      <td>NaN</td>\n",
       "      <td>NaN</td>\n",
       "      <td>NaN</td>\n",
       "      <td>NaN</td>\n",
       "      <td>NaN</td>\n",
       "      <td>NaN</td>\n",
       "      <td>NaN</td>\n",
       "    </tr>\n",
       "    <tr>\n",
       "      <th>247</th>\n",
       "      <td>Sekirei</td>\n",
       "      <td>Yes</td>\n",
       "      <td>2008.0</td>\n",
       "      <td>2010</td>\n",
       "      <td>NaN</td>\n",
       "      <td>NaN</td>\n",
       "      <td>NaN</td>\n",
       "      <td>NaN</td>\n",
       "      <td>NaN</td>\n",
       "      <td>NaN</td>\n",
       "      <td>NaN</td>\n",
       "    </tr>\n",
       "    <tr>\n",
       "      <th>248</th>\n",
       "      <td>Chuunibyou demo koi ga shitai!</td>\n",
       "      <td>Yes</td>\n",
       "      <td>2012.0</td>\n",
       "      <td>No Finale yet</td>\n",
       "      <td>NaN</td>\n",
       "      <td>NaN</td>\n",
       "      <td>NaN</td>\n",
       "      <td>NaN</td>\n",
       "      <td>NaN</td>\n",
       "      <td>NaN</td>\n",
       "      <td>NaN</td>\n",
       "    </tr>\n",
       "    <tr>\n",
       "      <th>249</th>\n",
       "      <td>Heisei tanuki gassen ponpoko</td>\n",
       "      <td>No</td>\n",
       "      <td>1994.0</td>\n",
       "      <td>No Finale yet</td>\n",
       "      <td>U</td>\n",
       "      <td>119 min</td>\n",
       "      <td>Comedy, Drama</td>\n",
       "      <td>7.3</td>\n",
       "      <td>A community of magical shape-shifting raccoon ...</td>\n",
       "      <td>Isao Takahata,Shinchô Kokontei,Makoto Nonomura...</td>\n",
       "      <td>26,381</td>\n",
       "    </tr>\n",
       "  </tbody>\n",
       "</table>\n",
       "<p>250 rows × 11 columns</p>\n",
       "</div>"
      ],
      "text/plain": [
       "                                  Title Pre-Production  start_year  \\\n",
       "0                            Invincible             No      2021.0   \n",
       "1                           Castlevania             No      2017.0   \n",
       "2                    Shingeki no kyojin             No      2013.0   \n",
       "3    Kimetsu no Yaiba: Mugen Ressha-Hen             No      2020.0   \n",
       "4        Demon Slayer: Kimetsu No Yaiba             No      2019.0   \n",
       "..                                  ...            ...         ...   \n",
       "245                          Herushingu            Yes      2001.0   \n",
       "246                       Fruits Basket            Yes      2001.0   \n",
       "247                             Sekirei            Yes      2008.0   \n",
       "248      Chuunibyou demo koi ga shitai!            Yes      2012.0   \n",
       "249        Heisei tanuki gassen ponpoko             No      1994.0   \n",
       "\n",
       "          end_year certificate  runtime                           genre  \\\n",
       "0    No Finale yet          18  364 min   Action, Adventure               \n",
       "1             2021          18   23 min   Action, Adventure               \n",
       "2             2021          13   24 min   Action, Adventure               \n",
       "3    No Finale yet           R  117 min   Action, Adventure               \n",
       "4    No Finale yet          16   25 min     Action, Fantasy               \n",
       "..             ...         ...      ...                             ...   \n",
       "245           2002         NaN      NaN                             NaN   \n",
       "246  No Finale yet         NaN      NaN                             NaN   \n",
       "247           2010         NaN      NaN                             NaN   \n",
       "248  No Finale yet         NaN      NaN                             NaN   \n",
       "249  No Finale yet           U  119 min       Comedy, Drama               \n",
       "\n",
       "     ratings                                             review  \\\n",
       "0        8.8  An adult animated series based on the Skybound...   \n",
       "1        8.2  A vampire hunter fights to save a besieged cit...   \n",
       "2        9.0  After his hometown is destroyed and his mother...   \n",
       "3        8.5  After his family was brutally murdered and his...   \n",
       "4        8.7  A family is attacked by demons and only two me...   \n",
       "..       ...                                                ...   \n",
       "245      NaN                                                NaN   \n",
       "246      NaN                                                NaN   \n",
       "247      NaN                                                NaN   \n",
       "248      NaN                                                NaN   \n",
       "249      7.3  A community of magical shape-shifting raccoon ...   \n",
       "\n",
       "                                                 stars    votes  \n",
       "0       Steven Yeun,J.K. Simmons,Sandra Oh,Zazie Beetz   46,788  \n",
       "1    Richard Armitage,Alejandra Reynoso,James Calli...   44,280  \n",
       "2      Yûki Kaji,Marina Inoue,Josh Grelle,Yui Ishikawa  228,458  \n",
       "3    Haruo Sotozaki,Natsuki Hanae,Akari Kitô,Yoshit...   17,842  \n",
       "4       Natsuki Hanae,Zach Aguilar,Abby Trott,Aleks Le   38,125  \n",
       "..                                                 ...      ...  \n",
       "245                                                NaN      NaN  \n",
       "246                                                NaN      NaN  \n",
       "247                                                NaN      NaN  \n",
       "248                                                NaN      NaN  \n",
       "249  Isao Takahata,Shinchô Kokontei,Makoto Nonomura...   26,381  \n",
       "\n",
       "[250 rows x 11 columns]"
      ]
     },
     "execution_count": 19,
     "metadata": {},
     "output_type": "execute_result"
    }
   ],
   "source": [
    "data"
   ]
  },
  {
   "cell_type": "code",
   "execution_count": 55,
   "metadata": {},
   "outputs": [
    {
     "name": "stdout",
     "output_type": "stream",
     "text": [
      "<class 'pandas.core.frame.DataFrame'>\n",
      "RangeIndex: 250 entries, 0 to 249\n",
      "Data columns (total 11 columns):\n",
      " #   Column          Non-Null Count  Dtype  \n",
      "---  ------          --------------  -----  \n",
      " 0   Title           250 non-null    object \n",
      " 1   Pre-Production  250 non-null    object \n",
      " 2   start_year      247 non-null    float64\n",
      " 3   end_year        250 non-null    object \n",
      " 4   certificate     132 non-null    object \n",
      " 5   runtime         132 non-null    object \n",
      " 6   genre           132 non-null    object \n",
      " 7   ratings         132 non-null    float64\n",
      " 8   review          132 non-null    object \n",
      " 9   stars           132 non-null    object \n",
      " 10  votes           250 non-null    object \n",
      "dtypes: float64(2), object(9)\n",
      "memory usage: 21.6+ KB\n"
     ]
    }
   ],
   "source": [
    "data.info()"
   ]
  },
  {
   "cell_type": "code",
   "execution_count": 56,
   "metadata": {},
   "outputs": [],
   "source": [
    "data['votes'].fillna(0, inplace=True)"
   ]
  },
  {
   "cell_type": "code",
   "execution_count": 62,
   "metadata": {},
   "outputs": [
    {
     "data": {
      "text/plain": [
       "9.3"
      ]
     },
     "execution_count": 62,
     "metadata": {},
     "output_type": "execute_result"
    }
   ],
   "source": [
    "data['ratings'].max()"
   ]
  },
  {
   "cell_type": "code",
   "execution_count": 64,
   "metadata": {},
   "outputs": [
    {
     "data": {
      "text/html": [
       "<div>\n",
       "<style scoped>\n",
       "    .dataframe tbody tr th:only-of-type {\n",
       "        vertical-align: middle;\n",
       "    }\n",
       "\n",
       "    .dataframe tbody tr th {\n",
       "        vertical-align: top;\n",
       "    }\n",
       "\n",
       "    .dataframe thead th {\n",
       "        text-align: right;\n",
       "    }\n",
       "</style>\n",
       "<table border=\"1\" class=\"dataframe\">\n",
       "  <thead>\n",
       "    <tr style=\"text-align: right;\">\n",
       "      <th></th>\n",
       "      <th>Title</th>\n",
       "      <th>Pre-Production</th>\n",
       "      <th>start_year</th>\n",
       "      <th>end_year</th>\n",
       "      <th>certificate</th>\n",
       "      <th>runtime</th>\n",
       "      <th>genre</th>\n",
       "      <th>ratings</th>\n",
       "      <th>review</th>\n",
       "      <th>stars</th>\n",
       "      <th>votes</th>\n",
       "    </tr>\n",
       "  </thead>\n",
       "  <tbody>\n",
       "    <tr>\n",
       "      <th>8</th>\n",
       "      <td>Avatar: The Last Airbender</td>\n",
       "      <td>No</td>\n",
       "      <td>2005.0</td>\n",
       "      <td>2008</td>\n",
       "      <td>U</td>\n",
       "      <td>23 min</td>\n",
       "      <td>Action, Adventure</td>\n",
       "      <td>9.3</td>\n",
       "      <td>In a war-torn world of elemental magic, a youn...</td>\n",
       "      <td>Dee Bradley Baker,Zach Tyler,Mae Whitman,Jack ...</td>\n",
       "      <td>257,613</td>\n",
       "    </tr>\n",
       "    <tr>\n",
       "      <th>15</th>\n",
       "      <td>Hagane no renkinjutsushi</td>\n",
       "      <td>No</td>\n",
       "      <td>2009.0</td>\n",
       "      <td>2012</td>\n",
       "      <td>18+</td>\n",
       "      <td>24 min</td>\n",
       "      <td>Action, Adventure</td>\n",
       "      <td>9.1</td>\n",
       "      <td>Two brothers search for a Philosopher's Stone ...</td>\n",
       "      <td>Kent Williams,Iemasa Kayumi,Vic Mignogna,Murie...</td>\n",
       "      <td>129,037</td>\n",
       "    </tr>\n",
       "  </tbody>\n",
       "</table>\n",
       "</div>"
      ],
      "text/plain": [
       "                         Title Pre-Production  start_year end_year  \\\n",
       "8   Avatar: The Last Airbender             No      2005.0     2008   \n",
       "15    Hagane no renkinjutsushi             No      2009.0     2012   \n",
       "\n",
       "   certificate runtime                           genre  ratings  \\\n",
       "8            U  23 min   Action, Adventure                  9.3   \n",
       "15         18+  24 min   Action, Adventure                  9.1   \n",
       "\n",
       "                                               review  \\\n",
       "8   In a war-torn world of elemental magic, a youn...   \n",
       "15  Two brothers search for a Philosopher's Stone ...   \n",
       "\n",
       "                                                stars    votes  \n",
       "8   Dee Bradley Baker,Zach Tyler,Mae Whitman,Jack ...  257,613  \n",
       "15  Kent Williams,Iemasa Kayumi,Vic Mignogna,Murie...  129,037  "
      ]
     },
     "execution_count": 64,
     "metadata": {},
     "output_type": "execute_result"
    }
   ],
   "source": [
    "data[data['ratings']>9]"
   ]
  },
  {
   "cell_type": "code",
   "execution_count": 68,
   "metadata": {},
   "outputs": [
    {
     "data": {
      "text/html": [
       "<div>\n",
       "<style scoped>\n",
       "    .dataframe tbody tr th:only-of-type {\n",
       "        vertical-align: middle;\n",
       "    }\n",
       "\n",
       "    .dataframe tbody tr th {\n",
       "        vertical-align: top;\n",
       "    }\n",
       "\n",
       "    .dataframe thead th {\n",
       "        text-align: right;\n",
       "    }\n",
       "</style>\n",
       "<table border=\"1\" class=\"dataframe\">\n",
       "  <thead>\n",
       "    <tr style=\"text-align: right;\">\n",
       "      <th></th>\n",
       "      <th>Title</th>\n",
       "      <th>Pre-Production</th>\n",
       "      <th>start_year</th>\n",
       "      <th>end_year</th>\n",
       "      <th>certificate</th>\n",
       "      <th>runtime</th>\n",
       "      <th>genre</th>\n",
       "      <th>ratings</th>\n",
       "      <th>review</th>\n",
       "      <th>stars</th>\n",
       "      <th>votes</th>\n",
       "    </tr>\n",
       "  </thead>\n",
       "  <tbody>\n",
       "    <tr>\n",
       "      <th>26</th>\n",
       "      <td>Haikyuu!!</td>\n",
       "      <td>No</td>\n",
       "      <td>2014.0</td>\n",
       "      <td>2020</td>\n",
       "      <td>13</td>\n",
       "      <td>24 min</td>\n",
       "      <td>Comedy, Drama</td>\n",
       "      <td>8.7</td>\n",
       "      <td>Determined to be like the volleyball champions...</td>\n",
       "      <td>Ayumu Murase,Kaito Ishikawa,Yu Hayashi,Satoshi...</td>\n",
       "      <td>13,398</td>\n",
       "    </tr>\n",
       "    <tr>\n",
       "      <th>83</th>\n",
       "      <td>Star Wars: Resistance</td>\n",
       "      <td>Yes</td>\n",
       "      <td>2018.0</td>\n",
       "      <td>2020</td>\n",
       "      <td>NaN</td>\n",
       "      <td>NaN</td>\n",
       "      <td>NaN</td>\n",
       "      <td>NaN</td>\n",
       "      <td>NaN</td>\n",
       "      <td>NaN</td>\n",
       "      <td>0</td>\n",
       "    </tr>\n",
       "    <tr>\n",
       "      <th>114</th>\n",
       "      <td>Baki</td>\n",
       "      <td>No</td>\n",
       "      <td>2018.0</td>\n",
       "      <td>2020</td>\n",
       "      <td>18</td>\n",
       "      <td>45 min</td>\n",
       "      <td>Action, Sport</td>\n",
       "      <td>6.7</td>\n",
       "      <td>The protagonist, Baki Hanma, trains with an in...</td>\n",
       "      <td>Tôru Furuya,Kirk Thornton,Troy Baker,Nobunaga ...</td>\n",
       "      <td>4,012</td>\n",
       "    </tr>\n",
       "  </tbody>\n",
       "</table>\n",
       "</div>"
      ],
      "text/plain": [
       "                     Title Pre-Production  start_year end_year certificate  \\\n",
       "26               Haikyuu!!             No      2014.0     2020          13   \n",
       "83   Star Wars: Resistance            Yes      2018.0     2020         NaN   \n",
       "114                   Baki             No      2018.0     2020          18   \n",
       "\n",
       "    runtime                       genre  ratings  \\\n",
       "26   24 min   Comedy, Drama                  8.7   \n",
       "83      NaN                         NaN      NaN   \n",
       "114  45 min   Action, Sport                  6.7   \n",
       "\n",
       "                                                review  \\\n",
       "26   Determined to be like the volleyball champions...   \n",
       "83                                                 NaN   \n",
       "114  The protagonist, Baki Hanma, trains with an in...   \n",
       "\n",
       "                                                 stars   votes  \n",
       "26   Ayumu Murase,Kaito Ishikawa,Yu Hayashi,Satoshi...  13,398  \n",
       "83                                                 NaN       0  \n",
       "114  Tôru Furuya,Kirk Thornton,Troy Baker,Nobunaga ...   4,012  "
      ]
     },
     "execution_count": 68,
     "metadata": {},
     "output_type": "execute_result"
    }
   ],
   "source": [
    "data[data['end_year']=='2020'] # end year is in string. "
   ]
  },
  {
   "cell_type": "code",
   "execution_count": 74,
   "metadata": {},
   "outputs": [
    {
     "data": {
      "text/plain": [
       "26     Comedy, Drama            \n",
       "Name: genre, dtype: object"
      ]
     },
     "execution_count": 74,
     "metadata": {},
     "output_type": "execute_result"
    }
   ],
   "source": [
    "data[data['Title']=='Haikyuu!!']['genre']"
   ]
  },
  {
   "cell_type": "code",
   "execution_count": 88,
   "metadata": {},
   "outputs": [
    {
     "data": {
      "text/plain": [
       "99"
      ]
     },
     "execution_count": 88,
     "metadata": {},
     "output_type": "execute_result"
    }
   ],
   "source": [
    "data['ratings'].argmin()"
   ]
  },
  {
   "cell_type": "code",
   "execution_count": 89,
   "metadata": {},
   "outputs": [
    {
     "data": {
      "text/plain": [
       "Title                                             Ben 10: Omniverse\n",
       "Pre-Production                                                   No\n",
       "start_year                                                     2012\n",
       "end_year                                                       2014\n",
       "certificate                                                       7\n",
       "runtime                                                      22 min\n",
       "genre                                 Action, Adventure            \n",
       "ratings                                                         5.9\n",
       "review            The continuing adventures of Ben Tennyson (Yur...\n",
       "stars             Yuri Lowenthal,Bumper Robinson,Eric Bauza,Paul...\n",
       "votes                                                         3,569\n",
       "Name: 99, dtype: object"
      ]
     },
     "execution_count": 89,
     "metadata": {},
     "output_type": "execute_result"
    }
   ],
   "source": [
    "'''\n",
    "loc gets rows (and,or columns) with particular labels.\n",
    "\n",
    "iloc gets rows (and,or columns) at integer locations.\n",
    "'''\n",
    "\n",
    "data.iloc[data['ratings'].argmin()]\n",
    "# or data.iloc[99]"
   ]
  },
  {
   "cell_type": "code",
   "execution_count": 93,
   "metadata": {},
   "outputs": [
    {
     "data": {
      "text/plain": [
       "certificate\n",
       "12+          8.100000\n",
       "13           8.328571\n",
       "16           8.146667\n",
       "16+          8.900000\n",
       "18           7.711111\n",
       "18+          9.100000\n",
       "7            7.925000\n",
       "A            7.533333\n",
       "All          7.680000\n",
       "G            7.200000\n",
       "Not Rated    7.200000\n",
       "PG           7.400000\n",
       "PG-13        7.250000\n",
       "R            6.950000\n",
       "U            7.811765\n",
       "UA           7.737500\n",
       "Name: ratings, dtype: float64"
      ]
     },
     "execution_count": 93,
     "metadata": {},
     "output_type": "execute_result"
    }
   ],
   "source": [
    "data.groupby('certificate').mean()['ratings']"
   ]
  },
  {
   "cell_type": "code",
   "execution_count": 94,
   "metadata": {},
   "outputs": [],
   "source": [
    "#data[''].nunique() # to get unique"
   ]
  },
  {
   "cell_type": "code",
   "execution_count": 96,
   "metadata": {},
   "outputs": [
    {
     "data": {
      "text/plain": [
       "U     34\n",
       "16    30\n",
       "18    27\n",
       "UA     8\n",
       "13     7\n",
       "Name: certificate, dtype: int64"
      ]
     },
     "execution_count": 96,
     "metadata": {},
     "output_type": "execute_result"
    }
   ],
   "source": [
    "data['certificate'].value_counts().head()"
   ]
  },
  {
   "cell_type": "code",
   "execution_count": 97,
   "metadata": {},
   "outputs": [
    {
     "data": {
      "text/plain": [
       "Index(['Title', 'Pre-Production', 'start_year', 'end_year', 'certificate',\n",
       "       'runtime', 'genre', 'ratings', 'review', 'stars', 'votes'],\n",
       "      dtype='object')"
      ]
     },
     "execution_count": 97,
     "metadata": {},
     "output_type": "execute_result"
    }
   ],
   "source": [
    " data.columns"
   ]
  },
  {
   "cell_type": "code",
   "execution_count": 102,
   "metadata": {},
   "outputs": [
    {
     "data": {
      "text/plain": [
       "Title             27\n",
       "Pre-Production    27\n",
       "start_year        27\n",
       "end_year          27\n",
       "certificate       27\n",
       "runtime           27\n",
       "genre             27\n",
       "ratings           27\n",
       "review            27\n",
       "stars             27\n",
       "votes             27\n",
       "dtype: int64"
      ]
     },
     "execution_count": 102,
     "metadata": {},
     "output_type": "execute_result"
    }
   ],
   "source": [
    "data[data['certificate']=='18'].count()"
   ]
  },
  {
   "cell_type": "code",
   "execution_count": 103,
   "metadata": {},
   "outputs": [],
   "source": [
    "# data['title'].apply(lamda y: y.split('#')[1])..."
   ]
  },
  {
   "cell_type": "code",
   "execution_count": null,
   "metadata": {},
   "outputs": [],
   "source": []
  },
  {
   "cell_type": "code",
   "execution_count": null,
   "metadata": {},
   "outputs": [],
   "source": []
  }
 ],
 "metadata": {
  "kernelspec": {
   "display_name": "Python 3",
   "language": "python",
   "name": "python3"
  },
  "language_info": {
   "codemirror_mode": {
    "name": "ipython",
    "version": 3
   },
   "file_extension": ".py",
   "mimetype": "text/x-python",
   "name": "python",
   "nbconvert_exporter": "python",
   "pygments_lexer": "ipython3",
   "version": "3.7.7"
  }
 },
 "nbformat": 4,
 "nbformat_minor": 4
}
